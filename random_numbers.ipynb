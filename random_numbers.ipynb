{
 "cells": [
  {
   "cell_type": "code",
   "execution_count": 1,
   "metadata": {},
   "outputs": [],
   "source": [
    "# Import the random, numpy, and timeit modules\n",
    "import random\n",
    "import numpy as np\n",
    "import timeit"
   ]
  },
  {
   "cell_type": "code",
   "execution_count": 2,
   "metadata": {},
   "outputs": [
    {
     "data": {
      "text/plain": [
       "0.3920310729386063"
      ]
     },
     "execution_count": 2,
     "metadata": {},
     "output_type": "execute_result"
    }
   ],
   "source": [
    "random.random()"
   ]
  },
  {
   "cell_type": "code",
   "execution_count": 3,
   "metadata": {},
   "outputs": [
    {
     "data": {
      "text/plain": [
       "3"
      ]
     },
     "execution_count": 3,
     "metadata": {},
     "output_type": "execute_result"
    }
   ],
   "source": [
    "# Generate a random integer between 0 and 100\n",
    "random.randint(0, 100)"
   ]
  },
  {
   "cell_type": "code",
   "execution_count": 4,
   "metadata": {},
   "outputs": [
    {
     "data": {
      "text/plain": [
       "2.567748276127322"
      ]
     },
     "execution_count": 4,
     "metadata": {},
     "output_type": "execute_result"
    }
   ],
   "source": [
    "# Generate a random decimal between 0 and 10\n",
    "10*random.random()"
   ]
  },
  {
   "cell_type": "code",
   "execution_count": 5,
   "metadata": {},
   "outputs": [
    {
     "data": {
      "text/plain": [
       "39.02933948250102"
      ]
     },
     "execution_count": 5,
     "metadata": {},
     "output_type": "execute_result"
    }
   ],
   "source": [
    "# Generate a random decimal between -89.99999 and and 89.99999 to model a random lattitude\n",
    "# store the random decimal as random_num\n",
    "random_number = random.randint(-90, 89) + random.random()\n",
    "random_number"
   ]
  },
  {
   "cell_type": "code",
   "execution_count": 6,
   "metadata": {},
   "outputs": [
    {
     "data": {
      "text/plain": [
       "[-65.32366729026838,\n",
       " -25.341097221332802,\n",
       " 58.12344890809706,\n",
       " 54.01191645904331,\n",
       " 65.47227871828972,\n",
       " 53.65519825873585,\n",
       " 40.31366713125653,\n",
       " -82.12309197778616,\n",
       " -65.72779812152903,\n",
       " 86.69190682369148]"
      ]
     },
     "execution_count": 6,
     "metadata": {},
     "output_type": "execute_result"
    }
   ],
   "source": [
    "# Generate a list of 10 random lattitudes\n",
    "x = 1\n",
    "latitudes_1 = []\n",
    "while x < 11:\n",
    "    random_number = random.randint(-90, 89) + random.random()\n",
    "    latitudes_1.append(random_number)\n",
    "    x += 1 \n",
    "latitudes_1\n",
    "    "
   ]
  },
  {
   "cell_type": "code",
   "execution_count": 7,
   "metadata": {},
   "outputs": [
    {
     "data": {
      "text/plain": [
       "-54"
      ]
     },
     "execution_count": 7,
     "metadata": {},
     "output_type": "execute_result"
    }
   ],
   "source": [
    "# Generate a random integer between -90 and 90 with step = 1\n",
    "random.randrange(-90, 90, step=1)"
   ]
  },
  {
   "cell_type": "code",
   "execution_count": 8,
   "metadata": {},
   "outputs": [
    {
     "data": {
      "text/plain": [
       "[-31.33087912462421,\n",
       " 78.37822768614018,\n",
       " 13.706160205203005,\n",
       " -44.94547527817102,\n",
       " -8.745598863506956,\n",
       " -30.299234338967004,\n",
       " 54.92334249968536,\n",
       " 81.67460981999389,\n",
       " 9.390457031887081,\n",
       " 7.266965105781509]"
      ]
     },
     "execution_count": 8,
     "metadata": {},
     "output_type": "execute_result"
    }
   ],
   "source": [
    "# Generate a random decimal between -90 and 90\n",
    "random.uniform(-90, 90)\n",
    "\n",
    "# Use random.uniform to generate our list of lattitudes\n",
    "x = 1\n",
    "latitudes_2 = []\n",
    "while x < 11:\n",
    "    random_num = random.uniform(-90, 90)\n",
    "    latitudes_2.append(random_num)\n",
    "    x += 1 \n",
    "latitudes_2"
   ]
  },
  {
   "cell_type": "code",
   "execution_count": 9,
   "metadata": {},
   "outputs": [
    {
     "name": "stdout",
     "output_type": "stream",
     "text": [
      "16.7 µs ± 1.14 µs per loop (mean ± std. dev. of 7 runs, 100000 loops each)\n"
     ]
    }
   ],
   "source": [
    "# Use numpy and random.uniform to generate an array of random decimals between -90 and 90 \n",
    "%timeit np.random.uniform(-90.0,90.0, size = 1500)\n"
   ]
  },
  {
   "cell_type": "code",
   "execution_count": 10,
   "metadata": {},
   "outputs": [
    {
     "name": "stdout",
     "output_type": "stream",
     "text": [
      "2.38 ms ± 311 µs per loop (mean ± std. dev. of 7 runs, 100 loops each)\n"
     ]
    }
   ],
   "source": [
    "# Define the function lattitudes that generates an array of random numbers of given size\n",
    "def latitudes(size):\n",
    "    x = 1\n",
    "    latitudes_3 = []\n",
    "    while x < size:\n",
    "        random_lat = random.randint(-90,89) + random.random()\n",
    "        latitudes_3.append(random_lat)\n",
    "        x += 1\n",
    "    return latitudes_3\n",
    "\n",
    "# Call the function with size = 1500 for input and timeit\n",
    "%timeit latitudes(1500)\n",
    "    "
   ]
  },
  {
   "cell_type": "code",
   "execution_count": 11,
   "metadata": {},
   "outputs": [
    {
     "name": "stdout",
     "output_type": "stream",
     "text": [
      "2.43 ms ± 217 µs per loop (mean ± std. dev. of 7 runs, 100 loops each)\n"
     ]
    }
   ],
   "source": [
    "# Define the function lattitudes that generates an array of random numbers of given size using a for loop\n",
    "def latitudes1(size):\n",
    "    latitudes_4 = []\n",
    "    for i in range(size):\n",
    "        random_lat = random.randint(-90,89) + random.random()\n",
    "        latitudes_4.append(random_lat)\n",
    "    return latitudes_4\n",
    "\n",
    "# Call the function with size = 1500 for input and timeit\n",
    "%timeit latitudes1(1500)"
   ]
  },
  {
   "cell_type": "code",
   "execution_count": null,
   "metadata": {},
   "outputs": [],
   "source": []
  }
 ],
 "metadata": {
  "kernelspec": {
   "display_name": "Python 3",
   "language": "python",
   "name": "python3"
  },
  "language_info": {
   "codemirror_mode": {
    "name": "ipython",
    "version": 3
   },
   "file_extension": ".py",
   "mimetype": "text/x-python",
   "name": "python",
   "nbconvert_exporter": "python",
   "pygments_lexer": "ipython3",
   "version": "3.7.6"
  }
 },
 "nbformat": 4,
 "nbformat_minor": 4
}
